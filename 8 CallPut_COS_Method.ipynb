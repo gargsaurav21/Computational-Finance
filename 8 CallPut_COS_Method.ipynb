{
 "cells": [
  {
   "cell_type": "code",
   "execution_count": 1,
   "metadata": {
    "id": "S5ijyZDxaFl5"
   },
   "outputs": [],
   "source": [
    "#%%\n",
    "\"\"\"\n",
    "Created on Thu Nov 27 2018\n",
    "Pricing of European Call and Put options wit the COS method\n",
    "@author: Lech A. Grzelak\n",
    "\"\"\"\n",
    "import numpy as np\n",
    "import matplotlib.pyplot as plt\n",
    "import scipy.stats as st\n",
    "import time"
   ]
  },
  {
   "cell_type": "code",
   "execution_count": 8,
   "metadata": {
    "id": "8OcqtPpYaqMB"
   },
   "outputs": [],
   "source": [
    "def CallPutOptionPriceCOSMthd(cf,CP,S0,r,tau,K,N,L):\n",
    "    # cf   - characteristic function as a functon, in the book denoted as \\varphi\n",
    "    # CP   - C for call and P for put\n",
    "    # S0   - Initial stock price\n",
    "    # r    - interest rate (constant)\n",
    "    # tau  - time to maturity\n",
    "    # K    - list of strikes\n",
    "    # N    - Number of expansion terms\n",
    "    # L    - size of truncation domain a,b (typ.:L=8 or L=10)\n",
    "\n",
    "    # reshape K to a column vector\n",
    "    K = np.array(K).reshape([len(K),1])\n",
    "\n",
    "    #assigning i=sqrt(-1)\n",
    "    i = complex(0.0,1.0)\n",
    "\n",
    "    x0 = np.log(S0 / K)\n",
    "\n",
    "    # truncation domain\n",
    "    a = 0.0 - L * np.sqrt(tau)\n",
    "    b = 0.0 + L * np.sqrt(tau)\n",
    "\n",
    "    # sumation from k = 0 to k=N-1\n",
    "    k = np.linspace(0,N-1,N).reshape([N,1])\n",
    "    u = k * np.pi / (b - a)\n",
    "\n",
    "    # Determine coefficients for Put Prices\n",
    "    H_k = CallPutCoefficients(CP,a,b,k)\n",
    "\n",
    "    mat = np.exp(i * np.outer((x0 - a) , u))   ### This is a matrix with strike * no of expansion terms\n",
    "\n",
    "    temp = cf(u) * H_k\n",
    "    temp[0] = 0.5 * temp[0]\n",
    "\n",
    "    value = np.exp(-r * tau) * K * np.real(mat.dot(temp))\n",
    "\n",
    "    return value\n",
    "\n",
    "\"\"\"\n",
    "Determine coefficients for Put Prices\n",
    "\"\"\"\n",
    "def CallPutCoefficients(CP,a,b,k):\n",
    "    if str(CP).lower()==\"c\" or str(CP).lower()==\"1\":\n",
    "        c = 0.0\n",
    "        d = b\n",
    "        coef = Chi_Psi(a,b,c,d,k)\n",
    "        Chi_k = coef[\"chi\"]\n",
    "        Psi_k = coef[\"psi\"]\n",
    "        if a < b and b < 0.0:\n",
    "            H_k = np.zeros([len(k),1])\n",
    "        else:\n",
    "            H_k      = 2.0 / (b - a) * (Chi_k - Psi_k)\n",
    "\n",
    "    elif str(CP).lower()==\"p\" or str(CP).lower()==\"-1\":\n",
    "        c = a\n",
    "        d = 0.0\n",
    "        coef = Chi_Psi(a,b,c,d,k)\n",
    "        Chi_k = coef[\"chi\"]\n",
    "        Psi_k = coef[\"psi\"]\n",
    "        H_k      = 2.0 / (b - a) * (- Chi_k + Psi_k)\n",
    "\n",
    "    return H_k\n",
    "\n",
    "def Chi_Psi(a,b,c,d,k):\n",
    "    psi = np.sin(k * np.pi * (d - a) / (b - a)) - np.sin(k * np.pi * (c - a)/(b - a))\n",
    "    psi[1:] = psi[1:] * (b - a) / (k[1:] * np.pi)\n",
    "    psi[0] = d - c\n",
    "\n",
    "    chi = 1.0 / (1.0 + np.power((k * np.pi / (b - a)) , 2.0))\n",
    "    expr1 = np.cos(k * np.pi * (d - a)/(b - a)) * np.exp(d)  - np.cos(k * np.pi\n",
    "                  * (c - a) / (b - a)) * np.exp(c)\n",
    "    expr2 = k * np.pi / (b - a) * np.sin(k * np.pi *\n",
    "                        (d - a) / (b - a))   - k * np.pi / (b - a) * np.sin(k\n",
    "                        * np.pi * (c - a) / (b - a)) * np.exp(c)\n",
    "    chi = chi * (expr1 + expr2)\n",
    "\n",
    "    value = {\"chi\":chi,\"psi\":psi }\n",
    "    return value\n",
    "\n",
    "\n",
    "def BS_Call_Option_Price(CP,S_0,K,sigma,tau,r):\n",
    "    #Black-Scholes Call option price\n",
    "    cp = str(CP).lower()\n",
    "    K = np.array(K).reshape([len(K),1])\n",
    "    d1    = (np.log(S_0 / K) + (r + 0.5 * np.power(sigma,2.0))\n",
    "    * tau) / float(sigma * np.sqrt(tau))\n",
    "    d2    = d1 - sigma * np.sqrt(tau)\n",
    "    if cp == \"c\" or cp == \"1\":\n",
    "        value = st.norm.cdf(d1) * S_0 - st.norm.cdf(d2) * K * np.exp(-r * tau)\n",
    "    elif cp == \"p\" or cp ==\"-1\":\n",
    "        value = st.norm.cdf(-d2) * K * np.exp(-r * tau) - st.norm.cdf(-d1)*S_0\n",
    "    return value\n",
    "\n",
    "def mainCalculation():\n",
    "    i = complex(0.0,1.0)\n",
    "\n",
    "    CP = \"c\"\n",
    "    S0 = 100.0\n",
    "    r = 0.1\n",
    "    tau = 1\n",
    "    sigma = 0.25\n",
    "    K = [80.0, 90.0, 100.0, 110, 120.0]\n",
    "    N = 4*32\n",
    "    L = 10\n",
    "\n",
    "    # Definition of the characteristic function for the GBM, this is an input\n",
    "    # for the COS method\n",
    "    # Note that Chf does not include coefficient \"+iuX(t_0)\" this coefficient\n",
    "    # is included internally in the evaluation\n",
    "    # In the book we denote this function as \\varphi(u)\n",
    "\n",
    "    # Chapter 6 Slide 23\n",
    "    cf = lambda u: np.exp((r - 0.5 * np.power(sigma,2.0)) * i * u * tau - 0.5\n",
    "                          * np.power(sigma, 2.0) * np.power(u, 2.0) * tau)\n",
    "\n",
    "    # Timing results\n",
    "    NoOfIterations = 100\n",
    "    time_start = time.time()\n",
    "    for k in range(0,NoOfIterations,1):\n",
    "        val_COS = CallPutOptionPriceCOSMthd(cf,CP,S0,r,tau,K,N,L)\n",
    "    time_stop = time.time()\n",
    "    print(\"It took {0} seconds to price.\".format((time_stop-time_start)/float(NoOfIterations)))\n",
    "\n",
    "    # evaluate analytical Black Scholes equation\n",
    "    val_Exact = BS_Call_Option_Price(CP,S0,K,sigma,tau,r)\n",
    "    plt.plot(K,val_COS)\n",
    "    plt.plot(K,val_Exact,'--')\n",
    "    plt.xlabel(\"strike, K\")\n",
    "    plt.ylabel(\"Option Price\")\n",
    "    plt.legend([\"COS Price\",\"BS model\"])\n",
    "    plt.grid()\n",
    "\n",
    "    #Error comuputation\n",
    "    error = []\n",
    "    for i in range(0,len(K)):\n",
    "        error.append(np.abs(val_COS[i]-val_Exact[i])[0])\n",
    "        print(\"Abs error for strike {0} is equal to {1:.2E}\".format(K[i],error[i]))\n"
   ]
  },
  {
   "cell_type": "code",
   "execution_count": 9,
   "metadata": {
    "colab": {
     "base_uri": "https://localhost:8080/",
     "height": 673
    },
    "executionInfo": {
     "elapsed": 595,
     "status": "ok",
     "timestamp": 1695227260300,
     "user": {
      "displayName": "Saurav Garg",
      "userId": "10889066847506821321"
     },
     "user_tz": -60
    },
    "id": "I4_EAK9oawZ7",
    "outputId": "784b8be1-1a83-4fa0-b8e7-11b180bd1105"
   },
   "outputs": [
    {
     "name": "stdout",
     "output_type": "stream",
     "text": [
      "It took 0.00044142961502075196 seconds to price.\n",
      "Abs error for strike 80.0 is equal to 4.52E-04\n",
      "Abs error for strike 90.0 is equal to 1.08E-03\n",
      "Abs error for strike 100.0 is equal to 9.61E-04\n",
      "Abs error for strike 110 is equal to 4.81E-04\n",
      "Abs error for strike 120.0 is equal to 1.46E-03\n"
     ]
    },
    {
     "data": {
      "image/png": "[encoded data removed]",
      "text/plain": [
       "<Figure size 640x480 with 1 Axes>"
      ]
     },
     "metadata": {},
     "output_type": "display_data"
    }
   ],
   "source": [
    "mainCalculation()"
   ]
  },
  {
   "cell_type": "code",
   "execution_count": null,
   "metadata": {},
   "outputs": [],
   "source": []
  }
 ],
 "metadata": {
  "colab": {
   "authorship_tag": "ABX9TyNcvlPhP45mXgl24Ntp+fdt",
   "provenance": []
  },
  "kernelspec": {
   "display_name": "Python 3",
   "name": "python3"
  },
  "language_info": {
   "codemirror_mode": {
    "name": "ipython",
    "version": 3
   },
   "file_extension": ".py",
   "mimetype": "text/x-python",
   "name": "python",
   "nbconvert_exporter": "python",
   "pygments_lexer": "ipython3",
   "version": "3.13.3"
  }
 },
 "nbformat": 4,
 "nbformat_minor": 0
}
