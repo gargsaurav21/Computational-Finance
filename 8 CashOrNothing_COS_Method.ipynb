{
 "cells": [
  {
   "cell_type": "code",
   "execution_count": 1,
   "metadata": {
    "executionInfo": {
     "elapsed": 1265,
     "status": "ok",
     "timestamp": 1695227353250,
     "user": {
      "displayName": "Saurav Garg",
      "userId": "10889066847506821321"
     },
     "user_tz": -60
    },
    "id": "KrM8haRAbFO6"
   },
   "outputs": [],
   "source": [
    "#%%\n",
    "\"\"\"\n",
    "Created on Thu Jan 16 2019\n",
    "Pricing of Cash-or-Nothing options with the COS method\n",
    "@author: Lech A. Grzelak\n",
    "\"\"\"\n",
    "import numpy as np\n",
    "import matplotlib.pyplot as plt\n",
    "import scipy.stats as st\n",
    "import time"
   ]
  },
  {
   "cell_type": "code",
   "execution_count": 2,
   "metadata": {
    "executionInfo": {
     "elapsed": 265,
     "status": "ok",
     "timestamp": 1695227358549,
     "user": {
      "displayName": "Saurav Garg",
      "userId": "10889066847506821321"
     },
     "user_tz": -60
    },
    "id": "F4dxNwy7bH0m"
   },
   "outputs": [],
   "source": [
    "def CashOrNothingPriceCOSMthd(cf,CP,S0,r,tau,K,N,L):\n",
    "    # cf   - characteristic function as a functon, in the book denoted as \\varphi\n",
    "    # CP   - C for call and P for put\n",
    "    # S0   - Initial stock price\n",
    "    # r    - interest rate (constant)\n",
    "    # tau  - time to maturity\n",
    "    # K    - list of strikes\n",
    "    # N    - Number of expansion terms\n",
    "    # L    - size of truncation domain (typ.:L=8 or L=10)\n",
    "\n",
    "    # reshape K to a column vector\n",
    "    K = np.array(K).reshape([len(K),1])\n",
    "\n",
    "    #assigning i=sqrt(-1)\n",
    "    i = complex(0.0,1.0)\n",
    "\n",
    "    x0 = np.log(S0 / K)\n",
    "\n",
    "    # truncation domain\n",
    "    a = 0.0 - L * np.sqrt(tau)\n",
    "    b = 0.0 + L * np.sqrt(tau)\n",
    "\n",
    "    # sumation from k = 0 to k=N-1\n",
    "    k = np.linspace(0,N-1,N).reshape([N,1])\n",
    "    u = k * np.pi / (b - a)\n",
    "\n",
    "    # Determine coefficients for Put Prices\n",
    "    H_k = CashOrNothingCoefficients(CP,a,b,k)#CallPutCoefficients(CP,a,b,k)\n",
    "\n",
    "    mat = np.exp(i * np.outer((x0 - a) , u))\n",
    "\n",
    "    temp = cf(u) * H_k\n",
    "    temp[0] = 0.5 * temp[0]\n",
    "\n",
    "    value = np.exp(-r * tau) *K * np.real(mat.dot(temp))\n",
    "\n",
    "    return value\n",
    "\n",
    "\"\"\"\n",
    "Determine coefficients for CashOrNothing\n",
    "\"\"\"\n",
    "def CashOrNothingCoefficients(CP,a,b,k):\n",
    "    if str(CP).lower()==\"c\" or str(CP).lower()==\"1\":\n",
    "        c = 0.0\n",
    "        d = b\n",
    "        coef = Chi_Psi(a,b,c,d,k)\n",
    "        Psi_k = coef[\"psi\"]\n",
    "        if a < b and b < 0.0:\n",
    "            H_k = np.zeros([len(k),1])\n",
    "        else:\n",
    "            H_k      = 2.0 / (b - a) * (Psi_k)\n",
    "\n",
    "    elif str(CP).lower()==\"p\" or str(CP).lower()==\"-1\":\n",
    "        c = a\n",
    "        d = 0.0\n",
    "        coef = Chi_Psi(a,b,c,d,k)\n",
    "        Psi_k = coef[\"psi\"]\n",
    "        H_k      = 2.0 / (b - a) * (Psi_k)\n",
    "\n",
    "    return H_k\n",
    "\n",
    "def Chi_Psi(a,b,c,d,k):\n",
    "    psi = np.sin(k * np.pi * (d - a) / (b - a)) - np.sin(k * np.pi * (c - a)/(b - a))\n",
    "    psi[1:] = psi[1:] * (b - a) / (k[1:] * np.pi)\n",
    "    psi[0] = d - c\n",
    "\n",
    "    chi = 1.0 / (1.0 + np.power((k * np.pi / (b - a)) , 2.0))\n",
    "    expr1 = np.cos(k * np.pi * (d - a)/(b - a)) * np.exp(d)  - np.cos(k * np.pi\n",
    "                  * (c - a) / (b - a)) * np.exp(c)\n",
    "    expr2 = k * np.pi / (b - a) * np.sin(k * np.pi *\n",
    "                        (d - a) / (b - a))   - k * np.pi / (b - a) * np.sin(k\n",
    "                        * np.pi * (c - a) / (b - a)) * np.exp(c)\n",
    "    chi = chi * (expr1 + expr2)\n",
    "\n",
    "    value = {\"chi\":chi,\"psi\":psi }\n",
    "    return value\n",
    "\n",
    "\n",
    "def BS_Cash_Or_Nothing_Price(CP,S_0,K,sigma,tau,r):\n",
    "    #Black-Scholes Call option price\n",
    "    cp = str(CP).lower()\n",
    "    K = np.array(K).reshape([len(K),1])\n",
    "    d1    = (np.log(S_0 / K) + (r + 0.5 * np.power(sigma,2.0))\n",
    "    * tau) / float(sigma * np.sqrt(tau))\n",
    "    d2    = d1 - sigma * np.sqrt(tau)\n",
    "    if cp == \"c\" or cp == \"1\":\n",
    "        value = K * np.exp(-r * tau) * st.norm.cdf(d2)\n",
    "    elif cp == \"p\" or cp ==\"-1\":\n",
    "        value = K * np.exp(-r * tau) *(1.0 - st.norm.cdf(d2))\n",
    "    return value\n",
    "\n",
    "def mainCalculation():\n",
    "    i = complex(0.0,1.0)\n",
    "\n",
    "    CP    = \"p\"\n",
    "    S0    = 100.0\n",
    "    r     = 0.05\n",
    "    tau   = 0.1\n",
    "    sigma = 0.2\n",
    "    K     = [120] #np.linspace(10,S0*2.0,50)#[120.0]#\n",
    "    N     = [40, 60, 80, 100, 120, 140]\n",
    "    L     = 6\n",
    "\n",
    "    # Definition of the characteristic function for the GBM, this is an input\n",
    "    # for the COS method\n",
    "    # Note that Chf does not include coefficient \"+iuX(t_0)\" this coefficient\n",
    "    # is included internally in the evaluation\n",
    "    # In the book we denote this function as \\varphi(u)\n",
    "    cf = lambda u: np.exp((r - 0.5 * np.power(sigma,2.0)) * i * u * tau - 0.5\n",
    "                          * np.power(sigma, 2.0) * np.power(u, 2.0) * tau)\n",
    "\n",
    "    val_COS_Exact = CashOrNothingPriceCOSMthd(cf,CP,S0,r,tau,K,np.power(2,14),L)\n",
    "    print(\"Reference value is equal to ={0}\".format(val_COS_Exact[0][0]))\n",
    "    # Timing results\n",
    "    NoOfIterations = 1000\n",
    "\n",
    "    for n in N:\n",
    "        time_start = time.time()\n",
    "        for k in range(0,NoOfIterations):\n",
    "            val_COS = CashOrNothingPriceCOSMthd(cf,CP,S0,r,tau,K,n,L)[0]\n",
    "        print(\"For N={0} the error is ={1}\".format(n,val_COS[0]-val_COS_Exact[0]))\n",
    "        time_stop = time.time()\n",
    "        print(\"It took {0} seconds to price.\".format((time_stop-time_start)/float(NoOfIterations)))\n"
   ]
  },
  {
   "cell_type": "code",
   "execution_count": 3,
   "metadata": {
    "colab": {
     "base_uri": "https://localhost:8080/"
    },
    "executionInfo": {
     "elapsed": 2434,
     "status": "ok",
     "timestamp": 1695227367838,
     "user": {
      "displayName": "Saurav Garg",
      "userId": "10889066847506821321"
     },
     "user_tz": -60
    },
    "id": "xPZrW5fibKoF",
    "outputId": "ab9ee4d6-7a68-4ed9-a0ba-cd4f80c1bca0"
   },
   "outputs": [
    {
     "name": "stdout",
     "output_type": "stream",
     "text": [
      "Reference value is equal to =119.128191006625\n",
      "For N=40 the error is =[-0.22572124]\n",
      "It took 0.00024689722061157224 seconds to price.\n",
      "For N=60 the error is =[0.0026015]\n",
      "It took 0.0002674438953399658 seconds to price.\n",
      "For N=80 the error is =[3.58820034e-05]\n",
      "It took 0.00020576906204223633 seconds to price.\n",
      "For N=100 the error is =[-4.85160584e-07]\n",
      "It took 0.00024270105361938476 seconds to price.\n",
      "For N=120 the error is =[1.29230671e-09]\n",
      "It took 0.00022316503524780275 seconds to price.\n",
      "For N=140 the error is =[-1.00897068e-12]\n",
      "It took 0.00026670408248901365 seconds to price.\n"
     ]
    }
   ],
   "source": [
    "mainCalculation()"
   ]
  },
  {
   "cell_type": "code",
   "execution_count": null,
   "metadata": {
    "id": "SWVsjAAZbMUr"
   },
   "outputs": [],
   "source": []
  }
 ],
 "metadata": {
  "colab": {
   "authorship_tag": "ABX9TyNAgH0emF4w5lDpOM/9g6In",
   "provenance": []
  },
  "kernelspec": {
   "display_name": "Python 3",
   "name": "python3"
  },
  "language_info": {
   "codemirror_mode": {
    "name": "ipython",
    "version": 3
   },
   "file_extension": ".py",
   "mimetype": "text/x-python",
   "name": "python",
   "nbconvert_exporter": "python",
   "pygments_lexer": "ipython3",
   "version": "3.13.3"
  }
 },
 "nbformat": 4,
 "nbformat_minor": 0
}
