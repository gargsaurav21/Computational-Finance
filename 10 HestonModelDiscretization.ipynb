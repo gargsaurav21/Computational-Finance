{
 "cells": [
  {
   "cell_type": "code",
   "execution_count": 1,
   "metadata": {
    "executionInfo": {
     "elapsed": 798,
     "status": "ok",
     "timestamp": 1695828737794,
     "user": {
      "displayName": "Saurav Garg",
      "userId": "10889066847506821321"
     },
     "user_tz": -60
    },
    "id": "TQLmR1wZRMGu"
   },
   "outputs": [],
   "source": [
    "#%%\n",
    "\"\"\"\n",
    "Created on Feb 11 2019\n",
    "The Heston model discretization, Euler scheme vs. AES scheme\n",
    "@author: Lech A. Grzelak\n",
    "\"\"\"\n",
    "import numpy as np\n",
    "import matplotlib.pyplot as plt\n",
    "import scipy.stats as st\n",
    "import enum\n"
   ]
  },
  {
   "cell_type": "code",
   "execution_count": 2,
   "metadata": {
    "executionInfo": {
     "elapsed": 6,
     "status": "ok",
     "timestamp": 1695828738238,
     "user": {
      "displayName": "Saurav Garg",
      "userId": "10889066847506821321"
     },
     "user_tz": -60
    },
    "id": "HJZ87MyZRN7m"
   },
   "outputs": [],
   "source": [
    "# This class defines puts and calls\n",
    "class OptionType(enum.Enum):\n",
    "    CALL = 1.0\n",
    "    PUT = -1.0"
   ]
  },
  {
   "cell_type": "code",
   "execution_count": 3,
   "metadata": {
    "executionInfo": {
     "elapsed": 15,
     "status": "ok",
     "timestamp": 1695828748398,
     "user": {
      "displayName": "Saurav Garg",
      "userId": "10889066847506821321"
     },
     "user_tz": -60
    },
    "id": "2mBMLyrwRP49"
   },
   "outputs": [],
   "source": [
    "def CallPutOptionPriceCOSMthd(cf,CP,S0,r,tau,K,N,L):\n",
    "    # cf   - characteristic function as a functon, in the book denoted as \\varphi\n",
    "    # CP   - C for call and P for put\n",
    "    # S0   - Initial stock price\n",
    "    # r    - interest rate (constant)\n",
    "    # tau  - time to maturity\n",
    "    # K    - list of strikes\n",
    "    # N    - Number of expansion terms\n",
    "    # L    - size of truncation domain (typ.:L=8 or L=10)\n",
    "\n",
    "    # reshape K to a column vector\n",
    "    if K is not np.array:\n",
    "        K = np.array(K).reshape([len(K),1])\n",
    "\n",
    "    #assigning i=sqrt(-1)\n",
    "    i = complex(0.0,1.0)\n",
    "    x0 = np.log(S0 / K)\n",
    "\n",
    "    # truncation domain\n",
    "    a = 0.0 - L * np.sqrt(tau)\n",
    "    b = 0.0 + L * np.sqrt(tau)\n",
    "\n",
    "    # sumation from k = 0 to k=N-1\n",
    "    k = np.linspace(0,N-1,N).reshape([N,1])\n",
    "    u = k * np.pi / (b - a);\n",
    "\n",
    "    # Determine coefficients for Put Prices\n",
    "    H_k = CallPutCoefficients(CP,a,b,k)\n",
    "    mat = np.exp(i * np.outer((x0 - a) , u))\n",
    "    temp = cf(u) * H_k\n",
    "    temp[0] = 0.5 * temp[0]\n",
    "    value = np.exp(-r * tau) * K * np.real(mat.dot(temp))\n",
    "    return value"
   ]
  },
  {
   "cell_type": "code",
   "execution_count": 4,
   "metadata": {
    "executionInfo": {
     "elapsed": 7,
     "status": "ok",
     "timestamp": 1695828754819,
     "user": {
      "displayName": "Saurav Garg",
      "userId": "10889066847506821321"
     },
     "user_tz": -60
    },
    "id": "EqmYVVd5RSSw"
   },
   "outputs": [],
   "source": [
    "def Chi_Psi(a,b,c,d,k):\n",
    "    psi = np.sin(k * np.pi * (d - a) / (b - a)) - np.sin(k * np.pi * (c - a)/(b - a))\n",
    "    psi[1:] = psi[1:] * (b - a) / (k[1:] * np.pi)\n",
    "    psi[0] = d - c\n",
    "\n",
    "    chi = 1.0 / (1.0 + np.power((k * np.pi / (b - a)) , 2.0))\n",
    "    expr1 = np.cos(k * np.pi * (d - a)/(b - a)) * np.exp(d)  - np.cos(k * np.pi\n",
    "                  * (c - a) / (b - a)) * np.exp(c)\n",
    "    expr2 = k * np.pi / (b - a) * np.sin(k * np.pi *\n",
    "                        (d - a) / (b - a))   - k * np.pi / (b - a) * np.sin(k\n",
    "                        * np.pi * (c - a) / (b - a)) * np.exp(c)\n",
    "    chi = chi * (expr1 + expr2)\n",
    "\n",
    "    value = {\"chi\":chi,\"psi\":psi }\n",
    "    return value\n"
   ]
  },
  {
   "cell_type": "code",
   "execution_count": 5,
   "metadata": {
    "executionInfo": {
     "elapsed": 754,
     "status": "ok",
     "timestamp": 1695828767370,
     "user": {
      "displayName": "Saurav Garg",
      "userId": "10889066847506821321"
     },
     "user_tz": -60
    },
    "id": "Qfe-OMd2RT4L"
   },
   "outputs": [],
   "source": [
    "# Determine coefficients for Put Prices\n",
    "def CallPutCoefficients(CP,a,b,k):\n",
    "    if CP==OptionType.CALL:\n",
    "        c = 0.0\n",
    "        d = b\n",
    "        coef = Chi_Psi(a,b,c,d,k)\n",
    "        Chi_k = coef[\"chi\"]\n",
    "        Psi_k = coef[\"psi\"]\n",
    "        if a < b and b < 0.0:\n",
    "            H_k = np.zeros([len(k),1])\n",
    "        else:\n",
    "            H_k      = 2.0 / (b - a) * (Chi_k - Psi_k)\n",
    "    elif CP==OptionType.PUT:\n",
    "        c = a\n",
    "        d = 0.0\n",
    "        coef = Chi_Psi(a,b,c,d,k)\n",
    "        Chi_k = coef[\"chi\"]\n",
    "        Psi_k = coef[\"psi\"]\n",
    "        H_k      = 2.0 / (b - a) * (- Chi_k + Psi_k)\n",
    "    return H_k\n"
   ]
  },
  {
   "cell_type": "code",
   "execution_count": 6,
   "metadata": {
    "executionInfo": {
     "elapsed": 215,
     "status": "ok",
     "timestamp": 1695828775955,
     "user": {
      "displayName": "Saurav Garg",
      "userId": "10889066847506821321"
     },
     "user_tz": -60
    },
    "id": "2yJLzIt_RW3Y"
   },
   "outputs": [],
   "source": [
    "def ChFHestonModel(r,tau,kappa,gamma,vbar,v0,rho):\n",
    "    i = complex(0.0,1.0)\n",
    "    D1 = lambda u: np.sqrt(np.power(kappa-gamma*rho*i*u,2)+(u*u+i*u)*gamma*gamma)\n",
    "    g  = lambda u: (kappa-gamma*rho*i*u-D1(u))/(kappa-gamma*rho*i*u+D1(u))\n",
    "    C  = lambda u: (1.0-np.exp(-D1(u)*tau))/(gamma*gamma*(1.0-g(u)*np.exp(-D1(u)*tau)))\\\n",
    "        *(kappa-gamma*rho*i*u-D1(u))\n",
    "    # Note that we exclude the term -r*tau, as the discounting is performed in the COS method\n",
    "    A  = lambda u: r * i*u *tau + kappa*vbar*tau/gamma/gamma *(kappa-gamma*rho*i*u-D1(u))\\\n",
    "        - 2*kappa*vbar/gamma/gamma*np.log((1.0-g(u)*np.exp(-D1(u)*tau))/(1.0-g(u)))\n",
    "    # Characteristic function for the Heston's model\n",
    "    cf = lambda u: np.exp(A(u) + C(u)*v0)\n",
    "    return cf"
   ]
  },
  {
   "cell_type": "code",
   "execution_count": 7,
   "metadata": {
    "executionInfo": {
     "elapsed": 8,
     "status": "ok",
     "timestamp": 1695829108859,
     "user": {
      "displayName": "Saurav Garg",
      "userId": "10889066847506821321"
     },
     "user_tz": -60
    },
    "id": "HJQ1ljVYSoWM"
   },
   "outputs": [],
   "source": [
    "def EUOptionPriceFromMCPathsGeneralized(CP,S,K,T,r):\n",
    "    # S is a vector of Monte Carlo samples at T\n",
    "    result = np.zeros([len(K),1])\n",
    "    if CP == OptionType.CALL:\n",
    "        for (idx,k) in enumerate(K):\n",
    "            result[idx] = np.exp(-r*T)*np.mean(np.maximum(S-k,0.0))\n",
    "    elif CP == OptionType.PUT:\n",
    "        for (idx,k) in enumerate(K):\n",
    "            result[idx] = np.exp(-r*T)*np.mean(np.maximum(k-S,0.0))\n",
    "    return result"
   ]
  },
  {
   "cell_type": "code",
   "execution_count": 8,
   "metadata": {
    "executionInfo": {
     "elapsed": 227,
     "status": "ok",
     "timestamp": 1695828786768,
     "user": {
      "displayName": "Saurav Garg",
      "userId": "10889066847506821321"
     },
     "user_tz": -60
    },
    "id": "LRBjhttRRZGI"
   },
   "outputs": [],
   "source": [
    "def GeneratePathsHestonEuler(NoOfPaths,NoOfSteps,T,r,S_0,kappa,gamma,rho,vbar,v0):\n",
    "    Z1 = np.random.normal(0.0,1.0,[NoOfPaths,NoOfSteps])\n",
    "    Z2 = np.random.normal(0.0,1.0,[NoOfPaths,NoOfSteps])\n",
    "    W1 = np.zeros([NoOfPaths, NoOfSteps+1])\n",
    "    W2 = np.zeros([NoOfPaths, NoOfSteps+1])\n",
    "    V = np.zeros([NoOfPaths, NoOfSteps+1])\n",
    "    X = np.zeros([NoOfPaths, NoOfSteps+1])\n",
    "    V[:,0]=v0\n",
    "    X[:,0]=np.log(S_0)\n",
    "\n",
    "    time = np.zeros([NoOfSteps+1])\n",
    "\n",
    "    dt = T / float(NoOfSteps)\n",
    "    for i in range(0,NoOfSteps):\n",
    "        # making sure that samples from normal have mean 0 and variance 1\n",
    "        if NoOfPaths > 1:\n",
    "            Z1[:,i] = (Z1[:,i] - np.mean(Z1[:,i])) / np.std(Z1[:,i])\n",
    "            Z2[:,i] = (Z2[:,i] - np.mean(Z2[:,i])) / np.std(Z2[:,i])\n",
    "        Z2[:,i] = rho * Z1[:,i] + np.sqrt(1.0-rho**2)*Z2[:,i]\n",
    "\n",
    "        W1[:,i+1] = W1[:,i] + np.power(dt, 0.5)*Z1[:,i]\n",
    "        W2[:,i+1] = W2[:,i] + np.power(dt, 0.5)*Z2[:,i]\n",
    "\n",
    "        # Truncated boundary condition\n",
    "        V[:,i+1] = V[:,i] + kappa*(vbar - V[:,i]) * dt + gamma* np.sqrt(V[:,i]) * (W1[:,i+1]-W1[:,i])\n",
    "        V[:,i+1] = np.maximum(V[:,i+1],0.0)\n",
    "\n",
    "        X[:,i+1] = X[:,i] + (r - 0.5*V[:,i])*dt + np.sqrt(V[:,i])*(W2[:,i+1]-W2[:,i])\n",
    "        time[i+1] = time[i] +dt\n",
    "\n",
    "    #Compute exponent\n",
    "    S = np.exp(X)\n",
    "    paths = {\"time\":time,\"S\":S}\n",
    "    return paths\n"
   ]
  },
  {
   "cell_type": "code",
   "execution_count": 9,
   "metadata": {
    "executionInfo": {
     "elapsed": 5,
     "status": "ok",
     "timestamp": 1695828798058,
     "user": {
      "displayName": "Saurav Garg",
      "userId": "10889066847506821321"
     },
     "user_tz": -60
    },
    "id": "8vUbdpumRbur"
   },
   "outputs": [],
   "source": [
    "def CIR_Sample(NoOfPaths,kappa,gamma,vbar,s,t,v_s):\n",
    "    delta = 4.0 *kappa*vbar/gamma/gamma\n",
    "    c= 1.0/(4.0*kappa)*gamma*gamma*(1.0-np.exp(-kappa*(t-s)))\n",
    "    kappaBar = 4.0*kappa*v_s*np.exp(-kappa*(t-s))/(gamma*gamma*(1.0-np.exp(-kappa*(t-s))))\n",
    "    sample = c* np.random.noncentral_chisquare(delta,kappaBar,NoOfPaths)\n",
    "    return  sample\n",
    "\n",
    "def GeneratePathsHestonAES(NoOfPaths,NoOfSteps,T,r,S_0,kappa,gamma,rho,vbar,v0):\n",
    "    Z1 = np.random.normal(0.0,1.0,[NoOfPaths,NoOfSteps])\n",
    "    W1 = np.zeros([NoOfPaths, NoOfSteps+1])\n",
    "    V = np.zeros([NoOfPaths, NoOfSteps+1])\n",
    "    X = np.zeros([NoOfPaths, NoOfSteps+1])\n",
    "    V[:,0]=v0\n",
    "    X[:,0]=np.log(S_0)\n",
    "\n",
    "    time = np.zeros([NoOfSteps+1])\n",
    "\n",
    "    dt = T / float(NoOfSteps)\n",
    "    for i in range(0,NoOfSteps):\n",
    "        # making sure that samples from normal have mean 0 and variance 1\n",
    "        if NoOfPaths > 1:\n",
    "            Z1[:,i] = (Z1[:,i] - np.mean(Z1[:,i])) / np.std(Z1[:,i])\n",
    "        W1[:,i+1] = W1[:,i] + np.power(dt, 0.5)*Z1[:,i]\n",
    "\n",
    "        # Exact samles for the variance process\n",
    "        V[:,i+1] = CIR_Sample(NoOfPaths,kappa,gamma,vbar,0,dt,V[:,i])\n",
    "        k0 = (r -rho/gamma*kappa*vbar)*dt\n",
    "        k1 = (rho*kappa/gamma -0.5)*dt - rho/gamma\n",
    "        k2 = rho / gamma\n",
    "        X[:,i+1] = X[:,i] + k0 + k1*V[:,i] + k2 *V[:,i+1] + np.sqrt((1.0-rho**2)*V[:,i])*(W1[:,i+1]-W1[:,i])\n",
    "        time[i+1] = time[i] +dt\n",
    "\n",
    "    #Compute exponent\n",
    "    S = np.exp(X)\n",
    "    paths = {\"time\":time,\"S\":S}\n",
    "    return paths\n"
   ]
  },
  {
   "cell_type": "code",
   "execution_count": 10,
   "metadata": {
    "executionInfo": {
     "elapsed": 7,
     "status": "ok",
     "timestamp": 1695828805949,
     "user": {
      "displayName": "Saurav Garg",
      "userId": "10889066847506821321"
     },
     "user_tz": -60
    },
    "id": "Y8YQW9AzReez"
   },
   "outputs": [],
   "source": [
    "# Black-Scholes Call option price\n",
    "def BS_Call_Put_Option_Price(CP,S_0,K,sigma,t,T,r):\n",
    "    #print('Maturity T={0} and t={1}'.format(T,t))\n",
    "    #print(float(sigma * np.sqrt(T-t)))\n",
    "    #print('strike K ={0}'.format(K))\n",
    "    K = np.array(K).reshape([len(K),1])\n",
    "    d1    = (np.log(S_0 / K) + (r + 0.5 * np.power(sigma,2.0))\n",
    "    * (T-t)) / (sigma * np.sqrt(T-t))\n",
    "    d2    = d1 - sigma * np.sqrt(T-t)\n",
    "    if CP == OptionType.CALL:\n",
    "        value = st.norm.cdf(d1) * S_0 - st.norm.cdf(d2) * K * np.exp(-r * (T-t))\n",
    "     #   print(value)\n",
    "    elif CP == OptionType.PUT:\n",
    "        value = st.norm.cdf(-d2) * K * np.exp(-r * (T-t)) - st.norm.cdf(-d1)*S_0\n",
    "      #  print(value)\n",
    "    return value\n"
   ]
  },
  {
   "cell_type": "code",
   "execution_count": 11,
   "metadata": {
    "executionInfo": {
     "elapsed": 241,
     "status": "ok",
     "timestamp": 1695828822007,
     "user": {
      "displayName": "Saurav Garg",
      "userId": "10889066847506821321"
     },
     "user_tz": -60
    },
    "id": "hD-2KcEyRgV4"
   },
   "outputs": [],
   "source": [
    "def mainCalculation():\n",
    "    NoOfPaths = 2500\n",
    "    NoOfSteps = 500\n",
    "\n",
    "    # Heston model parameters\n",
    "    gamma = 1.0\n",
    "    kappa = 0.5\n",
    "    vbar  = 0.04\n",
    "    rho   = -0.9\n",
    "    v0    = 0.04\n",
    "    T     = 1.0\n",
    "    S_0   = 100.0\n",
    "    r     = 0.1\n",
    "    CP    = OptionType.CALL\n",
    "\n",
    "    # First we define a range of strikes and check the convergence\n",
    "    K = np.linspace(80,S_0*1.5,30)\n",
    "\n",
    "    # Exact solution with the COS method\n",
    "    cf = ChFHestonModel(r,T,kappa,gamma,vbar,v0,rho)\n",
    "\n",
    "    # The COS method\n",
    "    optValueExact = CallPutOptionPriceCOSMthd(cf, CP, S_0, r, T, K, 1000, 8)\n",
    "\n",
    "    # Euler simulation\n",
    "    pathsEULER = GeneratePathsHestonEuler(NoOfPaths,NoOfSteps,T,r,S_0,kappa,gamma,rho,vbar,v0)\n",
    "    S_Euler = pathsEULER[\"S\"]\n",
    "\n",
    "    # Almost exact simulation\n",
    "    pathsAES = GeneratePathsHestonAES(NoOfPaths,NoOfSteps,T,r,S_0,kappa,gamma,rho,vbar,v0)\n",
    "    S_AES = pathsAES[\"S\"]\n",
    "\n",
    "\n",
    "    OptPrice_EULER = EUOptionPriceFromMCPathsGeneralized(CP,S_Euler[:,-1],K,T,r)\n",
    "    OptPrice_AES   = EUOptionPriceFromMCPathsGeneralized(CP,S_AES[:,-1],K,T,r)\n",
    "\n",
    "    plt.figure(1)\n",
    "    plt.plot(K,optValueExact,'-r')\n",
    "    plt.plot(K,OptPrice_EULER,'--k')\n",
    "    plt.plot(K,OptPrice_AES,'.b')\n",
    "    plt.legend(['Exact (COS)','Euler','AES'])\n",
    "    plt.grid()\n",
    "    plt.xlabel('strike, K')\n",
    "    plt.ylabel('option price')\n",
    "\n",
    "    # Here we will analyze the convergence for particular dt\n",
    "    dtV = np.array([1.0, 1.0/4.0, 1.0/8.0,1.0/16.0,1.0/32.0,1.0/64.0])\n",
    "    NoOfStepsV = [int(T/x) for x in dtV]\n",
    "\n",
    "    # Specify strike for analysis\n",
    "    K = np.array([140.0])\n",
    "\n",
    "    # Exact\n",
    "    optValueExact = CallPutOptionPriceCOSMthd(cf, CP, S_0, r, T, K, 1000, 8)\n",
    "    errorEuler = np.zeros([len(dtV),1])\n",
    "    errorAES = np.zeros([len(dtV),1])\n",
    "\n",
    "    for (idx,NoOfSteps) in enumerate(NoOfStepsV):\n",
    "        # Euler\n",
    "        np.random.seed(3)\n",
    "        pathsEULER = GeneratePathsHestonEuler(NoOfPaths,NoOfSteps,T,r,S_0,kappa,gamma,rho,vbar,v0)\n",
    "        S_Euler = pathsEULER[\"S\"]\n",
    "        OptPriceEULER = EUOptionPriceFromMCPathsGeneralized(CP,S_Euler[:,-1],K,T,r)\n",
    "        errorEuler[idx] = OptPriceEULER-optValueExact\n",
    "        # AES\n",
    "        np.random.seed(3)\n",
    "        pathsAES = GeneratePathsHestonAES(NoOfPaths,NoOfSteps,T,r,S_0,kappa,gamma,rho,vbar,v0)\n",
    "        S_AES = pathsAES[\"S\"]\n",
    "        OptPriceAES   = EUOptionPriceFromMCPathsGeneralized(CP,S_AES[:,-1],K,T,r)\n",
    "        errorAES[idx] = OptPriceAES-optValueExact\n",
    "\n",
    "    # Print the results\n",
    "    for i in range(0,len(NoOfStepsV)):\n",
    "        print(\"Euler Scheme, K ={0}, dt = {1} = {2}\".format(K,dtV[i],errorEuler[i]))\n",
    "\n",
    "    for i in range(0,len(NoOfStepsV)):\n",
    "        print(\"AES Scheme, K ={0}, dt = {1} = {2}\".format(K,dtV[i],errorAES[i]))\n"
   ]
  },
  {
   "cell_type": "code",
   "execution_count": 12,
   "metadata": {
    "colab": {
     "base_uri": "https://localhost:8080/",
     "height": 775
    },
    "executionInfo": {
     "elapsed": 3893,
     "status": "ok",
     "timestamp": 1695828832770,
     "user": {
      "displayName": "Saurav Garg",
      "userId": "10889066847506821321"
     },
     "user_tz": -60
    },
    "id": "A5rCV7AeRkVZ",
    "outputId": "415cdcee-de03-43c7-be38-fb1321c36449"
   },
   "outputs": [
    {
     "name": "stdout",
     "output_type": "stream",
     "text": [
      "Euler Scheme, K =[140.], dt = 1.0 = [1.30476871]\n",
      "Euler Scheme, K =[140.], dt = 0.25 = [0.54404403]\n",
      "Euler Scheme, K =[140.], dt = 0.125 = [0.1720427]\n",
      "Euler Scheme, K =[140.], dt = 0.0625 = [0.08078707]\n",
      "Euler Scheme, K =[140.], dt = 0.03125 = [0.01260589]\n",
      "Euler Scheme, K =[140.], dt = 0.015625 = [0.00605332]\n",
      "AES Scheme, K =[140.], dt = 1.0 = [0.00800533]\n",
      "AES Scheme, K =[140.], dt = 0.25 = [0.00985109]\n",
      "AES Scheme, K =[140.], dt = 0.125 = [0.00135139]\n",
      "AES Scheme, K =[140.], dt = 0.0625 = [0.00661993]\n",
      "AES Scheme, K =[140.], dt = 0.03125 = [0.0157029]\n",
      "AES Scheme, K =[140.], dt = 0.015625 = [0.00699352]\n"
     ]
    },
    {
     "data": {
      "image/png": "[encoded data removed]",
      "text/plain": [
       "<Figure size 640x480 with 1 Axes>"
      ]
     },
     "metadata": {},
     "output_type": "display_data"
    }
   ],
   "source": [
    "mainCalculation()"
   ]
  },
  {
   "cell_type": "code",
   "execution_count": null,
   "metadata": {
    "id": "kve-pYpURmCz"
   },
   "outputs": [],
   "source": []
  }
 ],
 "metadata": {
  "colab": {
   "authorship_tag": "ABX9TyOBsxFIj4UNciZ539g/xdrJ",
   "provenance": []
  },
  "kernelspec": {
   "display_name": "Python 3",
   "name": "python3"
  },
  "language_info": {
   "codemirror_mode": {
    "name": "ipython",
    "version": 3
   },
   "file_extension": ".py",
   "mimetype": "text/x-python",
   "name": "python",
   "nbconvert_exporter": "python",
   "pygments_lexer": "ipython3",
   "version": "3.13.3"
  }
 },
 "nbformat": 4,
 "nbformat_minor": 0
}
