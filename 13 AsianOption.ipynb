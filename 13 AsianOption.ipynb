{
 "cells": [
  {
   "cell_type": "code",
   "execution_count": 1,
   "metadata": {
    "executionInfo": {
     "elapsed": 8,
     "status": "ok",
     "timestamp": 1696116454967,
     "user": {
      "displayName": "Saurav Garg",
      "userId": "10889066847506821321"
     },
     "user_tz": -60
    },
    "id": "XUA0fotDawDE"
   },
   "outputs": [],
   "source": [
    "#%%\n",
    "\"\"\"\n",
    "Created on Thu Jan 16 2019\n",
    "Pricing of Cash-or-Nothing options with the COS method\n",
    "@author: Lech A. Grzelak\n",
    "\"\"\"\n",
    "import numpy as np"
   ]
  },
  {
   "cell_type": "code",
   "execution_count": 2,
   "metadata": {
    "executionInfo": {
     "elapsed": 7,
     "status": "ok",
     "timestamp": 1696116458978,
     "user": {
      "displayName": "Saurav Garg",
      "userId": "10889066847506821321"
     },
     "user_tz": -60
    },
    "id": "aFOfXPAeawia"
   },
   "outputs": [],
   "source": [
    "def PayoffValuation(S,T,r,payoff):\n",
    "    # S is a vector of Monte Carlo samples at T\n",
    "    return np.exp(-r*T) * np.mean(payoff(S))\n",
    "\n",
    "def GeneratePathsGBMEuler(NoOfPaths,NoOfSteps,T,r,sigma,S_0):\n",
    "    Z = np.random.normal(0.0,1.0,[NoOfPaths,NoOfSteps])\n",
    "    W = np.zeros([NoOfPaths, NoOfSteps+1])\n",
    "\n",
    "    # Euler Approximation\n",
    "    S1 = np.zeros([NoOfPaths, NoOfSteps+1])\n",
    "    S1[:,0] =S_0\n",
    "\n",
    "    time = np.zeros([NoOfSteps+1])\n",
    "\n",
    "    dt = T / float(NoOfSteps)\n",
    "    for i in range(0,NoOfSteps):\n",
    "        # making sure that samples from normal have mean 0 and variance 1\n",
    "        if NoOfPaths > 1:\n",
    "            Z[:,i] = (Z[:,i] - np.mean(Z[:,i])) / np.std(Z[:,i])\n",
    "        W[:,i+1] = W[:,i] + np.power(dt, 0.5)*Z[:,i]\n",
    "\n",
    "        S1[:,i+1] = S1[:,i] + r * S1[:,i]* dt + sigma * S1[:,i] * (W[:,i+1] - W[:,i])\n",
    "        time[i+1] = time[i] +dt\n",
    "\n",
    "    # Retun S1 and S2\n",
    "    paths = {\"time\":time,\"S\":S1}\n",
    "    return paths\n",
    "\n",
    "\n",
    "def mainCalculation():\n",
    "    NoOfPaths = 5000\n",
    "    NoOfSteps = 250\n",
    "\n",
    "    S0    = 100.0\n",
    "    r     = 0.05\n",
    "    T    = 5\n",
    "    sigma = 0.2\n",
    "\n",
    "    paths = GeneratePathsGBMEuler(NoOfPaths,NoOfSteps,T,r,sigma,S0)\n",
    "    S_paths= paths[\"S\"]\n",
    "    S_T = S_paths[:,-1]\n",
    "\n",
    "    # Payoff setting\n",
    "    K  = 100.0\n",
    "\n",
    "    # Payoff specification\n",
    "    payoff = lambda S: np.maximum(S-K,0.0)\n",
    "\n",
    "    # Valuation\n",
    "    val_t0 = PayoffValuation(S_T,T,r,payoff)\n",
    "    print(\"Value of the contract at t0 ={0}\".format(val_t0))\n",
    "\n",
    "\n",
    "    A_T= np.mean(S_paths,1)\n",
    "    valAsian_t0 = PayoffValuation(A_T,T,r,payoff)\n",
    "    print(\"Value of the Asian option at t0 ={0}\".format(valAsian_t0))\n",
    "\n",
    "    print('variance of S(T) = {0}'.format(np.var(S_T)))\n",
    "    print('variance of A(T) = {0}'.format(np.var(A_T)))"
   ]
  },
  {
   "cell_type": "code",
   "execution_count": 3,
   "metadata": {
    "colab": {
     "base_uri": "https://localhost:8080/"
    },
    "executionInfo": {
     "elapsed": 383,
     "status": "ok",
     "timestamp": 1696116460136,
     "user": {
      "displayName": "Saurav Garg",
      "userId": "10889066847506821321"
     },
     "user_tz": -60
    },
    "id": "Jdf9Tto2a0KQ",
    "outputId": "c4c195e8-4245-4f98-fe06-5aa9c8f46350"
   },
   "outputs": [
    {
     "name": "stdout",
     "output_type": "stream",
     "text": [
      "Value of the contract at t0 =28.688494210994687\n",
      "Value of the Asian option at t0 =14.85785102929973\n",
      "variance of S(T) = 3527.204182382643\n",
      "variance of A(T) = 940.6078449839666\n"
     ]
    }
   ],
   "source": [
    "mainCalculation()"
   ]
  },
  {
   "cell_type": "code",
   "execution_count": null,
   "metadata": {
    "id": "bmrDtm59a0X_"
   },
   "outputs": [],
   "source": []
  }
 ],
 "metadata": {
  "colab": {
   "authorship_tag": "ABX9TyNap7SSqkAuWnTOGPrYfOey",
   "provenance": []
  },
  "kernelspec": {
   "display_name": "Python 3",
   "name": "python3"
  },
  "language_info": {
   "codemirror_mode": {
    "name": "ipython",
    "version": 3
   },
   "file_extension": ".py",
   "mimetype": "text/x-python",
   "name": "python",
   "nbconvert_exporter": "python",
   "pygments_lexer": "ipython3",
   "version": "3.13.3"
  }
 },
 "nbformat": 4,
 "nbformat_minor": 0
}
