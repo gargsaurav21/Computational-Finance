{
 "cells": [
  {
   "cell_type": "code",
   "execution_count": 21,
   "metadata": {
    "executionInfo": {
     "elapsed": 558,
     "status": "ok",
     "timestamp": 1696111035243,
     "user": {
      "displayName": "Saurav Garg",
      "userId": "10889066847506821321"
     },
     "user_tz": -60
    },
    "id": "1ohqoOQNGEym"
   },
   "outputs": [],
   "source": [
    "#%%\n",
    "\"\"\"\n",
    "Created on Thu Jan 16 2019\n",
    "Pricing of Cash-or-Nothing options with the COS method\n",
    "@author: Lech A. Grzelak\n",
    "\"\"\"\n",
    "import numpy as np\n",
    "import matplotlib.pyplot as plt\n",
    "import scipy.stats as st\n",
    "import enum"
   ]
  },
  {
   "cell_type": "code",
   "execution_count": 22,
   "metadata": {
    "executionInfo": {
     "elapsed": 208,
     "status": "ok",
     "timestamp": 1696111205948,
     "user": {
      "displayName": "Saurav Garg",
      "userId": "10889066847506821321"
     },
     "user_tz": -60
    },
    "id": "vC4mk9tpGFl2"
   },
   "outputs": [],
   "source": [
    "def DigitalPayoffValuation(S,T,r,payoff):\n",
    "    # S is a vector of Monte Carlo samples at T\n",
    "    return np.exp(-r*T) * np.mean(payoff(S))\n",
    "\n",
    "def GeneratePathsGBMEuler(NoOfPaths,NoOfSteps,T,r,sigma,S_0):\n",
    "    Z = np.random.normal(0.0,1.0,[NoOfPaths,NoOfSteps])\n",
    "    W = np.zeros([NoOfPaths, NoOfSteps+1])\n",
    "\n",
    "    # Euler Approximation\n",
    "    S1 = np.zeros([NoOfPaths, NoOfSteps+1])\n",
    "    S1[:,0] =S_0\n",
    "\n",
    "    time = np.zeros([NoOfSteps+1])\n",
    "\n",
    "    dt = T / float(NoOfSteps)\n",
    "    for i in range(0,NoOfSteps):\n",
    "        # making sure that samples from normal have mean 0 and variance 1\n",
    "        if NoOfPaths > 1:\n",
    "            Z[:,i] = (Z[:,i] - np.mean(Z[:,i])) / np.std(Z[:,i])\n",
    "        W[:,i+1] = W[:,i] + np.power(dt, 0.5)*Z[:,i]\n",
    "\n",
    "        S1[:,i+1] = S1[:,i] + r * S1[:,i]* dt + sigma * S1[:,i] * (W[:,i+1] - W[:,i])\n",
    "        time[i+1] = time[i] +dt\n",
    "\n",
    "    # Retun S1 and S2\n",
    "    paths = {\"time\":time,\"S\":S1}\n",
    "    return paths\n",
    "\n",
    "def UpAndOutBarrier(S,T,r,payoff,Su):\n",
    "\n",
    "    # handling of a barrier\n",
    "    n1,n2 = S.shape\n",
    "    barrier= np.zeros([n1,n2]) + Su\n",
    "\n",
    "    hitM = S > barrier\n",
    "    hitVec = np.sum(hitM, 1)\n",
    "    hitVec = (hitVec == 0.0).astype(int)\n",
    "\n",
    "    V_0 = np.exp(-r*T) * np.mean(payoff(S[:,-1]*hitVec))\n",
    "\n",
    "\n",
    "    return V_0\n",
    "\n",
    "def mainCalculation():\n",
    "    NoOfPaths = 10000\n",
    "    NoOfSteps = 250\n",
    "\n",
    "    S0    = 100.0\n",
    "    r     = 0.05\n",
    "    T    = 5\n",
    "    sigma = 0.2\n",
    "\n",
    "    paths = GeneratePathsGBMEuler(NoOfPaths,NoOfSteps,T,r,sigma,S0)\n",
    "    S_paths= paths[\"S\"]\n",
    "    S_T = S_paths[:,-1]\n",
    "\n",
    "    # Payoff setting\n",
    "    K  = 100.0\n",
    "    K2 = 140.0\n",
    "\n",
    "    # Payoff specification\n",
    "    payoff = lambda S: np.maximum(S-K,0.0)# - np.maximum(S-K2,0)\n",
    "\n",
    "    #Plot\n",
    "    S_T_grid = np.linspace(50,S0*1.5,200)\n",
    "\n",
    "    plt.figure(1)\n",
    "    plt.plot(S_T_grid,payoff(S_T_grid))\n",
    "\n",
    "    # Valuation\n",
    "    val_t0 = DigitalPayoffValuation(S_T,T,r,payoff)\n",
    "    print(\"Value of the contract at t0 ={0}\".format(val_t0))"
   ]
  },
  {
   "cell_type": "code",
   "execution_count": 23,
   "metadata": {
    "colab": {
     "base_uri": "https://localhost:8080/",
     "height": 464
    },
    "executionInfo": {
     "elapsed": 1144,
     "status": "ok",
     "timestamp": 1696111207299,
     "user": {
      "displayName": "Saurav Garg",
      "userId": "10889066847506821321"
     },
     "user_tz": -60
    },
    "id": "87EmVPjmGLb5",
    "outputId": "46d29f90-74de-4ddb-c035-1a9c9db4d050"
   },
   "outputs": [
    {
     "name": "stdout",
     "output_type": "stream",
     "text": [
      "Value of the contract at t0 =29.14368951730241\n"
     ]
    },
    {
     "data": {
      "image/png": "[encoded data removed]",
      "text/plain": [
       "<Figure size 640x480 with 1 Axes>"
      ]
     },
     "metadata": {},
     "output_type": "display_data"
    }
   ],
   "source": [
    "mainCalculation()"
   ]
  },
  {
   "cell_type": "code",
   "execution_count": 24,
   "metadata": {
    "id": "o1it9pnQGLnO"
   },
   "outputs": [],
   "source": [
    "def DigitalPayoffValuation(S,T,r,payoff):\n",
    "    # S is a vector of Monte Carlo samples at T\n",
    "    return np.exp(-r*T) * np.mean(payoff(S))\n",
    "\n",
    "def GeneratePathsGBMEuler(NoOfPaths,NoOfSteps,T,r,sigma,S_0):\n",
    "    Z = np.random.normal(0.0,1.0,[NoOfPaths,NoOfSteps])\n",
    "    W = np.zeros([NoOfPaths, NoOfSteps+1])\n",
    "\n",
    "    # Euler Approximation\n",
    "    S1 = np.zeros([NoOfPaths, NoOfSteps+1])\n",
    "    S1[:,0] =S_0\n",
    "\n",
    "    time = np.zeros([NoOfSteps+1])\n",
    "\n",
    "    dt = T / float(NoOfSteps)\n",
    "    for i in range(0,NoOfSteps):\n",
    "        # making sure that samples from normal have mean 0 and variance 1\n",
    "        if NoOfPaths > 1:\n",
    "            Z[:,i] = (Z[:,i] - np.mean(Z[:,i])) / np.std(Z[:,i])\n",
    "        W[:,i+1] = W[:,i] + np.power(dt, 0.5)*Z[:,i]\n",
    "\n",
    "        S1[:,i+1] = S1[:,i] + r * S1[:,i]* dt + sigma * S1[:,i] * (W[:,i+1] - W[:,i])\n",
    "        time[i+1] = time[i] +dt\n",
    "\n",
    "    # Retun S1 and S2\n",
    "    paths = {\"time\":time,\"S\":S1}\n",
    "    return paths\n",
    "\n",
    "def UpAndOutBarrier(S,T,r,payoff,Su):\n",
    "\n",
    "    # handling of a barrier\n",
    "    n1,n2 = S.shape\n",
    "    barrier= np.zeros([n1,n2]) + Su\n",
    "\n",
    "    hitM = S > barrier\n",
    "    hitVec = np.sum(hitM, 1)\n",
    "    hitVec = (hitVec == 0.0).astype(int)\n",
    "\n",
    "    V_0 = np.exp(-r*T) * np.mean(payoff(S[:,-1]*hitVec))\n",
    "\n",
    "\n",
    "    return V_0\n",
    "\n",
    "def mainCalculation():\n",
    "    NoOfPaths = 10000\n",
    "    NoOfSteps = 250\n",
    "\n",
    "    S0    = 100.0\n",
    "    r     = 0.05\n",
    "    T    = 5\n",
    "    sigma = 0.2\n",
    "    \n",
    "\n",
    "    paths = GeneratePathsGBMEuler(NoOfPaths,NoOfSteps,T,r,sigma,S0)\n",
    "    S_paths= paths[\"S\"]\n",
    "    S_T = S_paths[:,-1]\n",
    "\n",
    "    # Payoff setting\n",
    "    K  = 100.0\n",
    "    K2 = 140.0\n",
    "\n",
    "    # Payoff specification\n",
    "    payoff = lambda S: np.maximum(S-K,0.0) - np.maximum(S-K2,0)\n",
    "\n",
    "    #Plot\n",
    "    S_T_grid = np.linspace(50,S0*1.5,200)\n",
    "\n",
    "    plt.figure(1)\n",
    "    plt.plot(S_T_grid,payoff(S_T_grid))\n",
    "\n",
    "    # Valuation\n",
    "    val_t0 = DigitalPayoffValuation(S_T,T,r,payoff)\n",
    "    print(\"Value of the contract at t0 ={0}\".format(val_t0))"
   ]
  },
  {
   "cell_type": "code",
   "execution_count": 25,
   "metadata": {},
   "outputs": [
    {
     "name": "stdout",
     "output_type": "stream",
     "text": [
      "Value of the contract at t0 =14.915237903450622\n"
     ]
    },
    {
     "data": {
      "image/png": "[encoded data removed]",
      "text/plain": [
       "<Figure size 640x480 with 1 Axes>"
      ]
     },
     "metadata": {},
     "output_type": "display_data"
    }
   ],
   "source": [
    "mainCalculation()"
   ]
  },
  {
   "cell_type": "code",
   "execution_count": 26,
   "metadata": {},
   "outputs": [],
   "source": [
    "def DigitalPayoffValuation(S,T,r,payoff):\n",
    "    # S is a vector of Monte Carlo samples at T\n",
    "    return np.exp(-r*T) * np.mean(payoff(S))\n",
    "\n",
    "def GeneratePathsGBMEuler(NoOfPaths,NoOfSteps,T,r,sigma,S_0):\n",
    "    Z = np.random.normal(0.0,1.0,[NoOfPaths,NoOfSteps])\n",
    "    W = np.zeros([NoOfPaths, NoOfSteps+1])\n",
    "\n",
    "    # Euler Approximation\n",
    "    S1 = np.zeros([NoOfPaths, NoOfSteps+1])\n",
    "    S1[:,0] =S_0\n",
    "\n",
    "    time = np.zeros([NoOfSteps+1])\n",
    "\n",
    "    dt = T / float(NoOfSteps)\n",
    "    for i in range(0,NoOfSteps):\n",
    "        # making sure that samples from normal have mean 0 and variance 1\n",
    "        if NoOfPaths > 1:\n",
    "            Z[:,i] = (Z[:,i] - np.mean(Z[:,i])) / np.std(Z[:,i])\n",
    "        W[:,i+1] = W[:,i] + np.power(dt, 0.5)*Z[:,i]\n",
    "\n",
    "        S1[:,i+1] = S1[:,i] + r * S1[:,i]* dt + sigma * S1[:,i] * (W[:,i+1] - W[:,i])\n",
    "        time[i+1] = time[i] +dt\n",
    "\n",
    "    # Retun S1 and S2\n",
    "    paths = {\"time\":time,\"S\":S1}\n",
    "    return paths\n",
    "\n",
    "def UpAndOutBarrier(S,T,r,payoff,Su):\n",
    "\n",
    "    # handling of a barrier\n",
    "    n1,n2 = S.shape\n",
    "    barrier= np.zeros([n1,n2]) + Su\n",
    "\n",
    "    hitM = S > barrier\n",
    "    hitVec = np.sum(hitM, 1)\n",
    "    hitVec = (hitVec == 0.0).astype(int)\n",
    "\n",
    "    V_0 = np.exp(-r*T) * np.mean(payoff(S[:,-1]*hitVec))\n",
    "\n",
    "\n",
    "    return V_0\n",
    "\n",
    "def mainCalculation():\n",
    "    NoOfPaths = 10000\n",
    "    NoOfSteps = 250\n",
    "\n",
    "    S0    = 100.0\n",
    "    r     = 0.05\n",
    "    T    = 5\n",
    "    sigma = 0.2\n",
    "    Su = 150\n",
    "\n",
    "    paths = GeneratePathsGBMEuler(NoOfPaths,NoOfSteps,T,r,sigma,S0)\n",
    "    S_paths= paths[\"S\"]\n",
    "    S_T = S_paths[:,-1]\n",
    "\n",
    "    # Payoff setting\n",
    "    K  = 100.0\n",
    "    K2 = 140.0\n",
    "\n",
    "    # Payoff specification\n",
    "    payoff = lambda S: np.maximum(S-K,0.0)# - np.maximum(S-K2,0)\n",
    "\n",
    "    #Plot\n",
    "    S_T_grid = np.linspace(50,S0*1.5,200)\n",
    "\n",
    "    plt.figure(1)\n",
    "    plt.plot(S_T_grid,payoff(S_T_grid))\n",
    "\n",
    "    # Valuation\n",
    "    val_t0 = DigitalPayoffValuation(S_T,T,r,payoff)\n",
    "    print(\"Value of the contract at t0 ={0}\".format(val_t0))\n",
    "\n",
    "    # barrier pricing\n",
    "    barrier_price = UpAndOutBarrier(S_paths,T,r,payoff,Su)\n",
    "\n",
    "    print(\"Value of the barrier contract at t0 ={0}\".format(barrier_price))"
   ]
  },
  {
   "cell_type": "code",
   "execution_count": 27,
   "metadata": {},
   "outputs": [
    {
     "name": "stdout",
     "output_type": "stream",
     "text": [
      "Value of the contract at t0 =29.124953202184756\n",
      "Value of the barrier contract at t0 =2.676781638977923\n"
     ]
    },
    {
     "data": {
      "image/png": "[encoded data removed]",
      "text/plain": [
       "<Figure size 640x480 with 1 Axes>"
      ]
     },
     "metadata": {},
     "output_type": "display_data"
    }
   ],
   "source": [
    "mainCalculation()"
   ]
  },
  {
   "cell_type": "code",
   "execution_count": null,
   "metadata": {},
   "outputs": [],
   "source": []
  }
 ],
 "metadata": {
  "colab": {
   "authorship_tag": "ABX9TyNRQ/nq4AuVnN0Hukvy+CaA",
   "provenance": []
  },
  "kernelspec": {
   "display_name": "Python 3",
   "name": "python3"
  },
  "language_info": {
   "codemirror_mode": {
    "name": "ipython",
    "version": 3
   },
   "file_extension": ".py",
   "mimetype": "text/x-python",
   "name": "python",
   "nbconvert_exporter": "python",
   "pygments_lexer": "ipython3",
   "version": "3.13.3"
  }
 },
 "nbformat": 4,
 "nbformat_minor": 0
}
