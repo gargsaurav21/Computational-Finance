{
 "cells": [
  {
   "cell_type": "code",
   "execution_count": 1,
   "id": "1866ca70",
   "metadata": {},
   "outputs": [],
   "source": [
    "import numpy as np\n",
    "from scipy.integrate import quad\n",
    "from scipy.stats import norm"
   ]
  },
  {
   "cell_type": "markdown",
   "id": "0c45bcf4",
   "metadata": {},
   "source": [
    "Lecture 3 Slide 24/34: \n",
    "\n",
    "Solve the following PDE:\n",
    "\n",
    "$$ \\frac{\\partial V}{\\partial t} + \\frac{1}{2}\\sigma^2\\frac{\\partial^2 V}{\\partial x^2} = 0 $$\n",
    "$$ V(x,T) = x^2 $$\n",
    "$$ V(x,t) = ? $$\n",
    "\n",
    "Note:\n",
    "\n",
    "$$ dX(s) = 0*dt + \\sigma*dW(s)  $$\n",
    "where r = 0 \n",
    "$$ X(t + \\Delta t) = X(t) + \\sigma \\sqrt{\\Delta t} \\cdot Z $$\n",
    "$$ X(t) = x $$\n",
    "$$ X \\sim N(x,\\sigma^2T) $$"
   ]
  },
  {
   "cell_type": "code",
   "execution_count": 2,
   "id": "24640d34",
   "metadata": {},
   "outputs": [],
   "source": [
    "### Simulation approach. Slide 26/34. (Simulation of Montecarlo paths for the stochastic process X, calculating V and then taking expectation)\n",
    "def GeneratePaths(NoOfPaths,NoOfSteps,x,T,sigma):\n",
    "    Z = np.random.normal(0.0,1.0,[NoOfPaths,NoOfSteps])\n",
    "    X = np.zeros([NoOfPaths, NoOfSteps+1])\n",
    "    time = np.zeros([NoOfSteps+1])\n",
    "\n",
    "    X[:,0] = x\n",
    "\n",
    "    dt = T / float(NoOfSteps)\n",
    "    for i in range(0,NoOfSteps):\n",
    "        # making sure that samples from normal have mean 0 and variance 1\n",
    "        if NoOfPaths > 1:\n",
    "            Z[:,i] = (Z[:,i] - np.mean(Z[:,i])) / np.std(Z[:,i])\n",
    "\n",
    "        X[:,i+1] = X[:,i] + sigma * np.power(dt, 0.5)*Z[:,i]\n",
    "        time[i+1] = time[i] +dt\n",
    "\n",
    "    paths = {\"time\":time, \"X\":X}\n",
    "    return paths\n",
    "\n",
    "def MainCode():\n",
    "    NoOfPaths = 1000\n",
    "    NoOfSteps = 10000\n",
    "    x         = 3\n",
    "    sigma     = 0.2\n",
    "    T         = 10\n",
    "    r = 0\n",
    "    \n",
    "    # Monte Carlo Paths\n",
    "\n",
    "    paths    = GeneratePaths(NoOfPaths,NoOfSteps,x,T,sigma)\n",
    "    X        = paths[\"X\"]\n",
    "    print(\"The mean of X is: \" + str(np.mean(X[:,-1])) + \" with the expected value of: \", str(x))\n",
    "    print(\"The std dev of X is: \" + str(np.std(X[:,-1])) + \" with the expected value of: \", sigma*np.sqrt(T))\n",
    "    time= paths[\"time\"]\n",
    "    V = np.square(X[:,-1])\n",
    "    EV = np.exp(-r*T) * np.mean(V)\n",
    "    print(\"The value of V(x,t) is: \" + str(EV) + \" with the expected value of: \", np.square(sigma)*T + np.square(x))"
   ]
  },
  {
   "cell_type": "code",
   "execution_count": 3,
   "id": "fbe35ae6",
   "metadata": {},
   "outputs": [
    {
     "name": "stdout",
     "output_type": "stream",
     "text": [
      "The mean of X is: 3.0 with the expected value of:  3\n",
      "The std dev of X is: 0.6246168329540882 with the expected value of:  0.632455532033676\n",
      "The value of V(x,t) is: 9.390146188009595 with the expected value of:  9.4\n"
     ]
    }
   ],
   "source": [
    "MainCode()"
   ]
  },
  {
   "cell_type": "code",
   "execution_count": 4,
   "id": "1b3b76e5",
   "metadata": {},
   "outputs": [
    {
     "name": "stdout",
     "output_type": "stream",
     "text": [
      "The value of V(x,t) is: 9.399999999999958 with the expected value of:  9.4\n"
     ]
    }
   ],
   "source": [
    "### Integral approach. Slide 26/34.\n",
    "### The solution of the integrand is sigma^2 * T + x^2\n",
    "\n",
    "# Define the normal distribution PDF with mean x and variance sigma^2 * t\n",
    "def normal_pdf(z):\n",
    "    mu = x\n",
    "    variance = sigma**2 * T\n",
    "    return (1 / np.sqrt(2 * np.pi * variance)) * np.exp(-(z-mu)**2 / (2 * variance))\n",
    "\n",
    "# Define the integrand: x^2 * PDF of normal distribution with mean x and variance sigma^2 * t\n",
    "def integrand(z):\n",
    "    return z**2 * normal_pdf(z)\n",
    "\n",
    "x         = 3\n",
    "sigma     = 0.2\n",
    "T         = 10\n",
    "r = 0\n",
    "\n",
    "# Compute the integral from -inf to +inf\n",
    "V, _ = quad(integrand, -np.inf, np.inf)    \n",
    "EV = np.exp(-r*T) * V\n",
    "print(\"The value of V(x,t) is: \" + str(EV) + \" with the expected value of: \", sigma**2 * T + x**2 )"
   ]
  },
  {
   "cell_type": "markdown",
   "id": "0cc7c473",
   "metadata": {},
   "source": [
    "Taking another example fron Slide 31/34 where V = max(S-K,0): \n",
    "\n",
    "$$ dS(t) = r S(t)dt + \\sigma S(t) dW^Q(t)$$"
   ]
  },
  {
   "cell_type": "code",
   "execution_count": 5,
   "id": "560b9b08",
   "metadata": {},
   "outputs": [
    {
     "name": "stdout",
     "output_type": "stream",
     "text": [
      "The value of V(x,t) is: 21.892032074316216 with the expected Black-Scholes price of:  20.379349629711726\n"
     ]
    }
   ],
   "source": [
    "### Simulation approach. Slide 26/34.\n",
    "def GeneratePathsGBM(NoOfPaths,NoOfSteps,T,r,sigma,S_0):\n",
    "\n",
    "    # Fixing random seed\n",
    "    np.random.seed(1)\n",
    "\n",
    "    Z = np.random.normal(0.0,1.0,[NoOfPaths,NoOfSteps])\n",
    "    X = np.zeros([NoOfPaths, NoOfSteps+1])\n",
    "    S = np.zeros([NoOfPaths, NoOfSteps+1])\n",
    "    time = np.zeros([NoOfSteps+1])\n",
    "\n",
    "    X[:,0] = np.log(S_0)\n",
    "\n",
    "    dt = T / float(NoOfSteps)\n",
    "    for i in range(0,NoOfSteps):\n",
    "        # making sure that samples from normal have mean 0 and variance 1\n",
    "        if NoOfPaths > 1:\n",
    "            Z[:,i] = (Z[:,i] - np.mean(Z[:,i])) / np.std(Z[:,i])\n",
    "\n",
    "        X[:,i+1] = X[:,i] + (r - 0.5 * sigma **2 ) * dt + sigma * np.power(dt, 0.5)*Z[:,i]\n",
    "        time[i+1] = time[i] +dt\n",
    "\n",
    "    #Compute exponent of ABM\n",
    "    S = np.exp(X)\n",
    "    paths = {\"time\":time,\"X\":X,\"S\":S}\n",
    "    return paths\n",
    "\n",
    "def black_scholes_call(S, K, T, r, sigma):\n",
    "    # Calculate d1 and d2\n",
    "    d1 = (np.log(S / K) + (r + 0.5 * sigma**2) * T) / (sigma * np.sqrt(T))\n",
    "    d2 = d1 - sigma * np.sqrt(T)\n",
    "    \n",
    "    # Calculate call price\n",
    "    call_price = S * norm.cdf(d1) - K * np.exp(-r * T) * norm.cdf(d2)\n",
    "    return call_price\n",
    "\n",
    "def mainCalculation():\n",
    "    NoOfPaths = 500\n",
    "    NoOfSteps = 10000\n",
    "    T = 1\n",
    "    r = 0.05\n",
    "    sigma = 0.4\n",
    "    S_0 = 100\n",
    "    K = 95\n",
    "\n",
    "    Paths = GeneratePathsGBM(NoOfPaths,NoOfSteps,T,r,sigma,S_0)\n",
    "    timeGrid = Paths[\"time\"]\n",
    "    X = Paths[\"X\"]\n",
    "    S = Paths[\"S\"]\n",
    "\n",
    "    \n",
    "    V = S[:,-1] - K\n",
    "    V[V < 0] = 0\n",
    "    EV = np.exp(-r*T) * np.mean(V)\n",
    "    print(\"The value of V(x,t) is: \" + str(EV) + \" with the expected Black-Scholes price of: \", black_scholes_call(S_0, K, T, r, sigma))\n",
    "mainCalculation()"
   ]
  },
  {
   "cell_type": "code",
   "execution_count": 6,
   "id": "82512ddd",
   "metadata": {},
   "outputs": [
    {
     "name": "stdout",
     "output_type": "stream",
     "text": [
      "The value of V(x,t) is: 20.379349629711708 with the expected value of:  20.379349629711726\n"
     ]
    }
   ],
   "source": [
    "### Integral approach. Slide 26/34.\n",
    "\n",
    "# Define the normal distribution PDF with mean x and variance sigma^2 * t\n",
    "def normal_pdf(z):\n",
    "    mu = ( r - sigma**2 / 2 ) * T\n",
    "    variance = sigma**2 * T\n",
    "    return (1 / np.sqrt(2 * np.pi * variance)) * np.exp(-(z-mu)**2 / (2 * variance))\n",
    "\n",
    "# Define the integrand: x^2 * PDF of normal distribution with mean x and variance sigma^2 * t\n",
    "def integrand(z):\n",
    "    return (S_0 * np.exp(z) - K) * normal_pdf(z)\n",
    "\n",
    "T = 1\n",
    "r = 0.05\n",
    "sigma = 0.4\n",
    "S_0 = 100\n",
    "K = 95\n",
    "\n",
    "# Compute the integral from -inf to +inf. However, this throw an error due to instability caused by roundoff errors so we capped the limit to 50.\n",
    "# V, _ = quad(integrand, np.log(K/S_0), np.inf)    \n",
    "V, _ = quad(integrand, np.log(K / S_0), 50, epsabs=1e-6, epsrel=1e-6)\n",
    "EV = np.exp(-r*T) * V\n",
    "print(\"The value of V(x,t) is: \" + str(EV) + \" with the expected value of: \", black_scholes_call(S_0, K, T, r, sigma))"
   ]
  },
  {
   "cell_type": "code",
   "execution_count": null,
   "id": "8fe9ccd3",
   "metadata": {},
   "outputs": [],
   "source": []
  }
 ],
 "metadata": {
  "kernelspec": {
   "display_name": "Python 3",
   "language": "python",
   "name": "python3"
  },
  "language_info": {
   "codemirror_mode": {
    "name": "ipython",
    "version": 3
   },
   "file_extension": ".py",
   "mimetype": "text/x-python",
   "name": "python",
   "nbconvert_exporter": "python",
   "pygments_lexer": "ipython3",
   "version": "3.13.3"
  }
 },
 "nbformat": 4,
 "nbformat_minor": 5
}
